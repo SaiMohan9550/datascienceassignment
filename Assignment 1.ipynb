{
  "metadata": {
    "kernelspec": {
      "name": "python",
      "display_name": "Python (Pyodide)",
      "language": "python"
    },
    "language_info": {
      "codemirror_mode": {
        "name": "python",
        "version": 3
      },
      "file_extension": ".py",
      "mimetype": "text/x-python",
      "name": "python",
      "nbconvert_exporter": "python",
      "pygments_lexer": "ipython3",
      "version": "3.8"
    }
  },
  "nbformat_minor": 5,
  "nbformat": 4,
  "cells": [
    {
      "id": "20dc44cf-eb82-40c1-827f-45f274d143cc",
      "cell_type": "code",
      "source": "import numpy as np\narr = np.random.randint(0, 11, (3, 3))\nprint(\"Array:\\n\", arr)\nprint(\"Sum:\", np.sum(arr))\nprint(\"Mean:\", np.mean(arr))\nprint(\"Standard Deviation:\", np.std(arr))",
      "metadata": {
        "trusted": true
      },
      "outputs": [
        {
          "name": "stdout",
          "output_type": "stream",
          "text": "Array:\n [[3 9 7]\n [8 1 1]\n [0 9 2]]\nSum: 40\nMean: 4.444444444444445\nStandard Deviation: 3.5311663515712675\n"
        }
      ],
      "execution_count": 1
    },
    {
      "id": "b9c51831-be40-45c8-b497-8596090d9021",
      "cell_type": "code",
      "source": "arr = np.arange(10)\nprint(\"Array:\", arr)\nprint(\"Cumulative Sum:\", np.cumsum(arr))",
      "metadata": {
        "trusted": true
      },
      "outputs": [
        {
          "name": "stdout",
          "output_type": "stream",
          "text": "Array: [0 1 2 3 4 5 6 7 8 9]\nCumulative Sum: [ 0  1  3  6 10 15 21 28 36 45]\n"
        }
      ],
      "execution_count": 2
    },
    {
      "id": "4e11802f-a696-4efd-b7bd-1762acba2c30",
      "cell_type": "code",
      "source": "a = np.random.randint(1, 10, (2, 3))\nb = np.random.randint(1, 10, (2, 3))\nprint(\"Addition:\\n\", a + b)\nprint(\"Subtraction:\\n\", a - b)\nprint(\"Multiplication:\\n\", a * b)\nprint(\"Division:\\n\", a / b)",
      "metadata": {
        "trusted": true
      },
      "outputs": [
        {
          "name": "stdout",
          "output_type": "stream",
          "text": "Addition:\n [[11  9 16]\n [ 7 10 12]]\nSubtraction:\n [[-5 -5  2]\n [ 5  4  4]]\nMultiplication:\n [[24 14 63]\n [ 6 21 32]]\nDivision:\n [[0.375      0.28571429 1.28571429]\n [6.         2.33333333 2.        ]]\n"
        }
      ],
      "execution_count": 3
    },
    {
      "id": "21aaf041-5eb1-4c96-9cb4-39275a343b18",
      "cell_type": "code",
      "source": "print(\"Identity Matrix:\\n\", np.eye(4))",
      "metadata": {
        "trusted": true
      },
      "outputs": [
        {
          "name": "stdout",
          "output_type": "stream",
          "text": "Identity Matrix:\n [[1. 0. 0. 0.]\n [0. 1. 0. 0.]\n [0. 0. 1. 0.]\n [0. 0. 0. 1.]]\n"
        }
      ],
      "execution_count": 4
    },
    {
      "id": "f1820d09-8a19-42a5-9be5-42a63af79976",
      "cell_type": "code",
      "source": "a = np.array([5, 10, 15, 20, 25])\nprint(\"Result:\", a / 5)",
      "metadata": {
        "trusted": true
      },
      "outputs": [
        {
          "name": "stdout",
          "output_type": "stream",
          "text": "Result: [1. 2. 3. 4. 5.]\n"
        }
      ],
      "execution_count": 5
    },
    {
      "id": "092cea4d-6a2d-4d6b-9c91-66b4612ff39e",
      "cell_type": "code",
      "source": "arr = np.arange(12)\nprint(\"Reshaped:\\n\", arr.reshape(3, 4))",
      "metadata": {
        "trusted": true
      },
      "outputs": [
        {
          "name": "stdout",
          "output_type": "stream",
          "text": "Reshaped:\n [[ 0  1  2  3]\n [ 4  5  6  7]\n [ 8  9 10 11]]\n"
        }
      ],
      "execution_count": 6
    },
    {
      "id": "e65458c0-fd77-4304-9ec6-4017b3bad2b4",
      "cell_type": "code",
      "source": "matrix = np.random.randint(0, 10, (3, 3))\nprint(\"Flattened:\", matrix.flatten())",
      "metadata": {
        "trusted": true
      },
      "outputs": [
        {
          "name": "stdout",
          "output_type": "stream",
          "text": "Flattened: [2 8 5 2 2 5 7 3 2]\n"
        }
      ],
      "execution_count": 7
    },
    {
      "id": "a3ee68bf-ad34-4bea-9921-28f3694ba9d1",
      "cell_type": "code",
      "source": "a = np.random.randint(0, 10, (3, 3))\nb = np.random.randint(0, 10, (3, 3))\nprint(\"Horizontal:\\n\", np.hstack((a, b)))\nprint(\"Vertical:\\n\", np.vstack((a, b)))",
      "metadata": {
        "trusted": true
      },
      "outputs": [
        {
          "name": "stdout",
          "output_type": "stream",
          "text": "Horizontal:\n [[7 9 6 8 4 4]\n [1 3 5 6 9 8]\n [4 3 8 2 3 7]]\nVertical:\n [[7 9 6]\n [1 3 5]\n [4 3 8]\n [8 4 4]\n [6 9 8]\n [2 3 7]]\n"
        }
      ],
      "execution_count": 8
    },
    {
      "id": "7ee80eeb-f46d-4428-afeb-ae17b9b25ccf",
      "cell_type": "code",
      "source": "a = np.array([1, 2, 3])\nb = np.array([4, 5, 6, 7])\na_padded = np.pad(a, (0, 1), 'constant')\nprint(\"Concatenated:\\n\", np.concatenate((a_padded, b)).reshape(2, -1))",
      "metadata": {
        "trusted": true
      },
      "outputs": [
        {
          "name": "stdout",
          "output_type": "stream",
          "text": "Concatenated:\n [[1 2 3 0]\n [4 5 6 7]]\n"
        }
      ],
      "execution_count": 9
    },
    {
      "id": "3ea6ab0b-eaee-455a-bffc-791fef28a961",
      "cell_type": "code",
      "source": "matrix = np.random.randint(0, 10, (3, 2))\nprint(\"Result:\\n\", matrix.T.reshape(3, 2))",
      "metadata": {
        "trusted": true
      },
      "outputs": [
        {
          "name": "stdout",
          "output_type": "stream",
          "text": "Result:\n [[0 4]\n [0 9]\n [4 0]]\n"
        }
      ],
      "execution_count": 10
    },
    {
      "id": "8c8c7438-7ab9-472c-a77d-92f8baae3d6d",
      "cell_type": "code",
      "source": "arr = np.arange(15)\nprint(\"Elements:\", arr[2:11:2])",
      "metadata": {
        "trusted": true
      },
      "outputs": [
        {
          "name": "stdout",
          "output_type": "stream",
          "text": "Elements: [ 2  4  6  8 10]\n"
        }
      ],
      "execution_count": 11
    },
    {
      "id": "618c95a3-18b2-4891-a95e-b80ccf5e4ae1",
      "cell_type": "code",
      "source": "matrix = np.random.randint(0, 10, (5, 5))\nprint(\"Submatrix:\\n\", matrix[1:4, 2:5])",
      "metadata": {
        "trusted": true
      },
      "outputs": [
        {
          "name": "stdout",
          "output_type": "stream",
          "text": "Submatrix:\n [[9 4 6]\n [7 6 5]\n [4 2 6]]\n"
        }
      ],
      "execution_count": 12
    },
    {
      "id": "609dfed5-2c90-4a8b-a7d2-692831ad800d",
      "cell_type": "code",
      "source": "arr = np.array([5, 11, 8, 15, 3, 12])\narr[arr > 10] = 10\nprint(\"Result:\", arr)",
      "metadata": {
        "trusted": true
      },
      "outputs": [
        {
          "name": "stdout",
          "output_type": "stream",
          "text": "Result: [ 5 10  8 10  3 10]\n"
        }
      ],
      "execution_count": 13
    },
    {
      "id": "4cd68cf5-32c0-4956-9926-94ef6e216d83",
      "cell_type": "code",
      "source": "arr = np.array([10, 20, 30, 40, 50, 60, 70, 80])\nprint(\"Selected:\", arr[[0, 2, 4, 6]])",
      "metadata": {
        "trusted": true
      },
      "outputs": [
        {
          "name": "stdout",
          "output_type": "stream",
          "text": "Selected: [10 30 50 70]\n"
        }
      ],
      "execution_count": 14
    },
    {
      "id": "8267e9c6-e4ad-41a2-95aa-b3d9025d304f",
      "cell_type": "code",
      "source": "arr = np.arange(10)\nprint(\"Reversed:\", arr[::-1])",
      "metadata": {
        "trusted": true
      },
      "outputs": [
        {
          "name": "stdout",
          "output_type": "stream",
          "text": "Reversed: [9 8 7 6 5 4 3 2 1 0]\n"
        }
      ],
      "execution_count": 15
    },
    {
      "id": "52e50226-bfd6-484e-bdca-c83ba856ae0a",
      "cell_type": "code",
      "source": "matrix = np.random.randint(0, 10, (3, 3))\nrow = np.array([1, 2, 3])\nprint(\"Result:\\n\", matrix + row)",
      "metadata": {
        "trusted": true
      },
      "outputs": [
        {
          "name": "stdout",
          "output_type": "stream",
          "text": "Result:\n [[ 3 10 12]\n [ 2  5  6]\n [ 1 11  4]]\n"
        }
      ],
      "execution_count": 16
    },
    {
      "id": "317cddd9-9a67-48ec-9a47-867ba6eed96b",
      "cell_type": "code",
      "source": "arr = np.array([1, 2, 3, 4, 5])\nprint(\"Result:\", arr * 3)",
      "metadata": {
        "trusted": true
      },
      "outputs": [
        {
          "name": "stdout",
          "output_type": "stream",
          "text": "Result: [ 3  6  9 12 15]\n"
        }
      ],
      "execution_count": 17
    },
    {
      "id": "4c485a72-0bca-4bc7-8fe0-ec30f62aec09",
      "cell_type": "code",
      "source": "matrix = np.random.randint(0, 10, (3, 3))\ncol = np.array([[1], [2], [3]])\nprint(\"Result:\\n\", matrix - col)",
      "metadata": {
        "trusted": true
      },
      "outputs": [
        {
          "name": "stdout",
          "output_type": "stream",
          "text": "Result:\n [[ 8 -1  2]\n [ 0  0  7]\n [-2  0 -3]]\n"
        }
      ],
      "execution_count": 18
    },
    {
      "id": "63205adb-648a-4ac7-8e07-fe478ecfb1c9",
      "cell_type": "code",
      "source": "arr = np.random.randint(0, 5, (2, 3, 4))\nprint(\"Result:\\n\", arr + 10)",
      "metadata": {
        "trusted": true
      },
      "outputs": [
        {
          "name": "stdout",
          "output_type": "stream",
          "text": "Result:\n [[[14 14 11 10]\n  [12 11 11 13]\n  [10 10 12 11]]\n\n [[14 10 12 11]\n  [12 12 13 11]\n  [14 13 11 13]]]\n"
        }
      ],
      "execution_count": 19
    },
    {
      "id": "bfe5b92b-5baf-4ab5-b27f-9ad383e48271",
      "cell_type": "code",
      "source": "a = np.array([[1], [2], [3], [4]])\nb = np.array([[10, 20, 30, 40, 50]])\nprint(\"Result:\\n\", a + b)",
      "metadata": {
        "trusted": true
      },
      "outputs": [
        {
          "name": "stdout",
          "output_type": "stream",
          "text": "Result:\n [[11 21 31 41 51]\n [12 22 32 42 52]\n [13 23 33 43 53]\n [14 24 34 44 54]]\n"
        }
      ],
      "execution_count": 20
    },
    {
      "id": "57e75e3d-34e6-44b0-8e13-c333ffbbb61d",
      "cell_type": "code",
      "source": "arr = np.random.randint(1, 10, (2, 3))\nprint(\"Square Roots:\\n\", np.sqrt(arr))",
      "metadata": {
        "trusted": true
      },
      "outputs": [
        {
          "name": "stdout",
          "output_type": "stream",
          "text": "Square Roots:\n [[1.         3.         1.41421356]\n [2.64575131 1.         1.73205081]]\n"
        }
      ],
      "execution_count": 21
    },
    {
      "id": "3d936385-6929-4787-927d-bf5c38abe14b",
      "cell_type": "code",
      "source": "a = np.array([1, 2, 3, 4, 5])\nb = np.array([5, 4, 3, 2, 1])\nprint(\"Dot Product:\", np.dot(a, b))",
      "metadata": {
        "trusted": true
      },
      "outputs": [
        {
          "name": "stdout",
          "output_type": "stream",
          "text": "Dot Product: 35\n"
        }
      ],
      "execution_count": 22
    },
    {
      "id": "1f4a0f86-7a81-48f1-8450-4ab07f6b8d0d",
      "cell_type": "code",
      "source": "a = np.array([5, 10, 15, 20])\nb = np.array([3, 12, 13, 25])\nprint(\"Comparison:\", a > b)",
      "metadata": {
        "trusted": true
      },
      "outputs": [
        {
          "name": "stdout",
          "output_type": "stream",
          "text": "Comparison: [ True False  True False]\n"
        }
      ],
      "execution_count": 23
    },
    {
      "id": "208f0bf2-4b85-454b-b215-109b36405d1d",
      "cell_type": "code",
      "source": "arr = np.random.randint(0, 10, (2, 3))\nprint(\"Doubled:\\n\", arr * 2)",
      "metadata": {
        "trusted": true
      },
      "outputs": [
        {
          "name": "stdout",
          "output_type": "stream",
          "text": "Doubled:\n [[ 2  0 18]\n [14  0 18]]\n"
        }
      ],
      "execution_count": 24
    },
    {
      "id": "584e09f0-6484-408a-8efb-de3c5f2f9dcd",
      "cell_type": "code",
      "source": "arr = np.random.randint(0, 100, 100)\nprint(\"Sum of Evens:\", np.sum(arr[arr % 2 == 0]))",
      "metadata": {
        "trusted": true
      },
      "outputs": [
        {
          "name": "stdout",
          "output_type": "stream",
          "text": "Sum of Evens: 2528\n"
        }
      ],
      "execution_count": 25
    },
    {
      "id": "e35cd85d-1746-4dfd-9429-c34fb2fcfc95",
      "cell_type": "code",
      "source": "matrix = np.random.randint(0, 10, (3, 3))\nprint(\"Determinant:\", np.linalg.det(matrix))",
      "metadata": {
        "trusted": true
      },
      "outputs": [
        {
          "name": "stdout",
          "output_type": "stream",
          "text": "Determinant: -42.00000000000002\n"
        }
      ],
      "execution_count": 26
    },
    {
      "id": "9526352d-3d2a-4720-99c3-0c81fd8725b8",
      "cell_type": "code",
      "source": "matrix = np.array([[4, 7], [2, 6]])\ninv = np.linalg.inv(matrix)\nprint(\"Inverse:\\n\", inv)\nprint(\"Verification:\\n\", np.dot(matrix, inv))",
      "metadata": {
        "trusted": true
      },
      "outputs": [
        {
          "name": "stdout",
          "output_type": "stream",
          "text": "Inverse:\n [[ 0.6 -0.7]\n [-0.2  0.4]]\nVerification:\n [[1. 0.]\n [0. 1.]]\n"
        }
      ],
      "execution_count": 27
    },
    {
      "id": "bb1cd49c-6496-4823-af18-210b9f8d807f",
      "cell_type": "code",
      "source": "matrix = np.array([[4, 2], [1, 3]])\neigvals, eigvecs = np.linalg.eig(matrix)\nprint(\"Eigenvalues:\", eigvals)\nprint(\"Eigenvectors:\\n\", eigvecs)",
      "metadata": {
        "trusted": true
      },
      "outputs": [
        {
          "name": "stdout",
          "output_type": "stream",
          "text": "Eigenvalues: [5. 2.]\nEigenvectors:\n [[ 0.89442719 -0.70710678]\n [ 0.4472136   0.70710678]]\n"
        }
      ],
      "execution_count": 28
    },
    {
      "id": "3b3b210e-88d7-4304-af91-736fbe235b04",
      "cell_type": "code",
      "source": "A = np.array([[2, 3], [4, 6]])\nb = np.array([5, 10])\ntry:\n    print(\"Solution:\", np.linalg.solve(A, b))\nexcept:\n    print(\"System is singular\")",
      "metadata": {
        "trusted": true
      },
      "outputs": [
        {
          "name": "stdout",
          "output_type": "stream",
          "text": "Solution: [nan nan]\n"
        }
      ],
      "execution_count": 29
    },
    {
      "id": "e45f8171-6fc2-4cdb-a3b9-8c431a1bf857",
      "cell_type": "code",
      "source": "matrix = np.random.randint(0, 10, (3, 3))\nU, S, Vt = np.linalg.svd(matrix)\nprint(\"U:\\n\", U)\nprint(\"S:\", S)\nprint(\"Vt:\\n\", Vt)\nreconstructed = U @ np.diag(S) @ Vt\nprint(\"Reconstructed:\\n\", reconstructed)",
      "metadata": {
        "trusted": true
      },
      "outputs": [
        {
          "name": "stdout",
          "output_type": "stream",
          "text": "U:\n [[-4.84150062e-01  8.74984982e-01  3.72243643e-18]\n [-6.18707814e-01 -3.42345792e-01 -7.07106781e-01]\n [-6.18707814e-01 -3.42345792e-01  7.07106781e-01]]\nS: [1.60215123e+01 2.51219877e+00 1.65637964e-16]\nVt:\n [[-8.76424193e-01 -3.82797645e-01 -2.92141398e-01]\n [-3.63153732e-01  9.23832216e-01 -1.21051244e-01]\n [-3.16227766e-01  3.33066907e-16  9.48683298e-01]]\nReconstructed:\n [[6. 5. 2.]\n [9. 3. 3.]\n [9. 3. 3.]]\n"
        }
      ],
      "execution_count": 30
    }
  ]
}